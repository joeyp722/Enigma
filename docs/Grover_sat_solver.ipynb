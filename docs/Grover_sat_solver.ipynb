{
 "cells": [
  {
   "cell_type": "code",
   "execution_count": 1,
   "metadata": {},
   "outputs": [],
   "source": [
    "import enigma.quantum_algorithms as qa\n",
    "import enigma.sat as sat"
   ]
  },
  {
   "cell_type": "markdown",
   "metadata": {},
   "source": [
    "The grover sat solver is used to solve SAT problems. In the cell below a cnf is shown for which a solution is to be found. "
   ]
  },
  {
   "cell_type": "code",
   "execution_count": 2,
   "metadata": {},
   "outputs": [],
   "source": [
    "cnf = [[1, 2, 3], [1, 2, -3], [1, -2, 3], [1, -2, -3], [-1, 2, 3], [-1, 2, -3], [-1, -2, 3]]"
   ]
  },
  {
   "cell_type": "markdown",
   "metadata": {},
   "source": [
    "This can be done with Grover's algorithm. However, this needs integrated as a sub-algorithm for it to work. The oracle of Grover's algorithm corresponds to the solution of the cnf. In order for the algorithm to find the solutions the number of iterations of Grover's algorithm is important, this is managed by the Grover sat solver algorithm. \n",
    "\n",
    "The algorithm has the folowing steps:\n",
    "\n",
    "1. Initialize $m = 1$ and set $\\lambda = 6/5 $, Ideally $\\lambda$ is between $1$ and $4/3$.\n",
    "2. Choose $j$, the number of iterations, uniformly at random among the nonnegative integers smaller than m.\n",
    "3. Apply $j$ iterations of Grover's algorithm.\n",
    "4. Measure the qubits of quantum circuits, and save the result.\n",
    "5. Repeat step 3 and 4 for a certain number of shots, then continue.\n",
    "6. If one of the measurents is a solution stop the algorithm and return the solution.\n",
    "7. Otherwise, set $m$ to $ min(\\lambda m, \\sqrt{N})$  and go back to step 2.\n",
    "\n",
    "Note that the algorithm is based on the algorithm in this paper [1] but is slightly modified."
   ]
  },
  {
   "cell_type": "markdown",
   "metadata": {},
   "source": [
    "Below the parameters of the algorithm are set:"
   ]
  },
  {
   "cell_type": "code",
   "execution_count": 3,
   "metadata": {},
   "outputs": [],
   "source": [
    "lamb = 6/5          # Increment factor for iteration upper bound.\n",
    "shots = 100         # Number of shots for job."
   ]
  },
  {
   "cell_type": "markdown",
   "metadata": {},
   "source": [
    "Execute the algorithm and display solution:"
   ]
  },
  {
   "cell_type": "code",
   "execution_count": 4,
   "metadata": {},
   "outputs": [
    {
     "name": "stdout",
     "output_type": "stream",
     "text": [
      "[1, 2, 3]\n"
     ]
    }
   ],
   "source": [
    "# Grover sat solver\n",
    "result = qa.grover_sat_solver(cnf, lamb, shots)\n",
    "print(result)"
   ]
  },
  {
   "cell_type": "markdown",
   "metadata": {},
   "source": [
    "When there are multiple solutions the algorithm pick an arbitrary solution. Perhaps try the cell below multiple times to see this property."
   ]
  },
  {
   "cell_type": "code",
   "execution_count": 5,
   "metadata": {},
   "outputs": [
    {
     "name": "stdout",
     "output_type": "stream",
     "text": [
      "[1, 2, 3, 4, -5, 6, -7, -8]\n"
     ]
    }
   ],
   "source": [
    "cnf = [[1, 2, 4], [1, 2, -5], [1, -2, 6], [1, -2, -7], [-1, 8, 3], [-1, 2, -3], [-1, -2, 3], [4, 5, 6]]\n",
    "\n",
    "# Grover sat solver\n",
    "result = qa.grover_sat_solver(cnf, lamb, shots)\n",
    "print(result)"
   ]
  },
  {
   "cell_type": "markdown",
   "metadata": {},
   "source": [
    "In contrary to a SAT solver that does not employ quantum mechanics."
   ]
  },
  {
   "cell_type": "code",
   "execution_count": 6,
   "metadata": {
    "scrolled": true
   },
   "outputs": [
    {
     "name": "stdout",
     "output_type": "stream",
     "text": [
      "[1, -2, -3, 4, -5, 6, -7, 8]\n"
     ]
    }
   ],
   "source": [
    "cnf = [[1, 2, 4], [1, 2, -5], [1, -2, 6], [1, -2, -7], [-1, 8, 3], [-1, 2, -3], [-1, -2, 3], [4, 5, 6]]\n",
    "\n",
    "# Classical sat solver.\n",
    "result = sat.solve(cnf)\n",
    "print(result)"
   ]
  },
  {
   "cell_type": "markdown",
   "metadata": {},
   "source": [
    "Unless, pseudo-randomness or a source of randomness is added, which is not the case here."
   ]
  },
  {
   "cell_type": "markdown",
   "metadata": {},
   "source": [
    "Not all cnf's have solutions:"
   ]
  },
  {
   "cell_type": "code",
   "execution_count": 7,
   "metadata": {},
   "outputs": [
    {
     "name": "stdout",
     "output_type": "stream",
     "text": [
      "None\n",
      "UNSAT\n"
     ]
    }
   ],
   "source": [
    "cnf = [[1, 2, 3], [1, 2, -3], [1, -2, 3], [1, -2, -3], [-1, 2, 3], [-1, 2, -3], [-1, -2, 3], [-1, -2, -3]]\n",
    "\n",
    "# Grover sat solver.\n",
    "result = qa.grover_sat_solver(cnf, lamb, shots)\n",
    "print(result)\n",
    "\n",
    "# Classical sat solver.\n",
    "result = sat.solve(cnf)\n",
    "print(result)"
   ]
  },
  {
   "cell_type": "markdown",
   "metadata": {},
   "source": [
    "The quantum algorithm returns 'None' and the classical returns 'UNSAT'. Note that both algorithms could skip over a solution, although this is probably very rare. The accuracy of the quantum algorithm can be increased be adjusting the parameters. Lamb needs to decreased and the number of shots needs to be increased."
   ]
  },
  {
   "cell_type": "markdown",
   "metadata": {},
   "source": [
    "# References"
   ]
  },
  {
   "cell_type": "markdown",
   "metadata": {},
   "source": [
    "[1] Boyer, M., Brassard, G., Høyer, P., & Tapp, A. (1998). Tight bounds on quantum searching. Fortschritte der Physik: Progress of Physics, 46(4‐5), 493-505.\n"
   ]
  }
 ],
 "metadata": {
  "kernelspec": {
   "display_name": "Python 3",
   "language": "python",
   "name": "python3"
  },
  "language_info": {
   "codemirror_mode": {
    "name": "ipython",
    "version": 3
   },
   "file_extension": ".py",
   "mimetype": "text/x-python",
   "name": "python",
   "nbconvert_exporter": "python",
   "pygments_lexer": "ipython3",
   "version": "3.8.6"
  }
 },
 "nbformat": 4,
 "nbformat_minor": 4
}
