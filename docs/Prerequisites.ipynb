{
 "cells": [
  {
   "cell_type": "markdown",
   "metadata": {},
   "source": [
    "# Prerequisites"
   ]
  },
  {
   "cell_type": "markdown",
   "metadata": {},
   "source": [
    "* Time complexity: https://qiskit.org/textbook/ch-states/case-for-quantum.html\n",
    "* Phase kickback: https://qiskit.org/textbook/ch-gates/phase-kickback.html\n",
    "* Grover's algorithm: https://qiskit.org/textbook/ch-algorithms/grover.html\n",
    "* Grover's algorithm with unknown number of solutions: https://qiskit.org/textbook/ch-labs/Lab06_Grover_search_with_an_unknown_number_of_solutions.html\n",
    "* Grover SAT solver: https://qiskit.org/textbook/ch-applications/satisfiability-grover.html"
   ]
  },
  {
   "cell_type": "code",
   "execution_count": null,
   "metadata": {},
   "outputs": [],
   "source": []
  }
 ],
 "metadata": {
  "kernelspec": {
   "display_name": "Python 3",
   "language": "python",
   "name": "python3"
  },
  "language_info": {
   "codemirror_mode": {
    "name": "ipython",
    "version": 3
   },
   "file_extension": ".py",
   "mimetype": "text/x-python",
   "name": "python",
   "nbconvert_exporter": "python",
   "pygments_lexer": "ipython3",
   "version": "3.8.6"
  }
 },
 "nbformat": 4,
 "nbformat_minor": 4
}
