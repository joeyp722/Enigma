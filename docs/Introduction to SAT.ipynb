{
 "cells": [
  {
   "cell_type": "code",
   "execution_count": 1,
   "metadata": {},
   "outputs": [],
   "source": [
    "import enigma.sat as sat"
   ]
  },
  {
   "cell_type": "markdown",
   "metadata": {},
   "source": [
    "# Boolean formulas"
   ]
  },
  {
   "cell_type": "markdown",
   "metadata": {},
   "source": [
    "SAT refers to satisfiability of a Boolean formula, meaning that there exists a input where the output of the formula is TRUE."
   ]
  },
  {
   "cell_type": "markdown",
   "metadata": {},
   "source": [
    "There are three types of Boolean operators:\n",
    "* conjunctions denoted by $\\wedge$, think of an AND operation.\n",
    "* disjunctions denoted by $\\vee$, think of an OR operation.\n",
    "* negations denoted by $\\neg$, think of an NOT operation.\n",
    "\n",
    "A formula might look like:\n",
    "\n",
    "> $f = (x1 \\vee x2) \\wedge(\\neg x1 \\vee \\neg x2)$\n",
    "\n",
    "This is the formula for an XOR gate. The $x$ variables here are the literals, these are the inputs of the Boolean formula and can be TRUE or FALSE. Here $f$ is the output that can be TRUE or FALSE as well.\n",
    "\n",
    "Note that here the disjunctions are within the brackets, and where the conjunctions are outside of the brackets. When the formula $f$ is in this form it is called the conjunctive normal form (cnf), here the expressions within the brackets are called clauses. Often the Tseytin transformation [1] is used to convert a arbitrary Boolean formula to this form.\n",
    "\n",
    "In order to satisfy the formula one must find a input that where the output is TRUE as a result."
   ]
  },
  {
   "cell_type": "markdown",
   "metadata": {},
   "source": [
    "This input can be found with a SAT solver:"
   ]
  },
  {
   "cell_type": "code",
   "execution_count": 2,
   "metadata": {},
   "outputs": [
    {
     "name": "stdout",
     "output_type": "stream",
     "text": [
      "[-1, 2]\n"
     ]
    }
   ],
   "source": [
    "# The formula as a list.\n",
    "f = [[1, 2],[-1, -2]]\n",
    "\n",
    "# Finding the solution.\n",
    "result = sat.solve(f)\n",
    "\n",
    "# Print solution.\n",
    "print(result)"
   ]
  },
  {
   "cell_type": "markdown",
   "metadata": {},
   "source": [
    "The result can be verified for correctness:"
   ]
  },
  {
   "cell_type": "code",
   "execution_count": 3,
   "metadata": {},
   "outputs": [
    {
     "name": "stdout",
     "output_type": "stream",
     "text": [
      "True\n"
     ]
    }
   ],
   "source": [
    "# Verify correctness\n",
    "correct = sat.verify(f, result)\n",
    "\n",
    "# Print verification outcome.\n",
    "print(correct)"
   ]
  },
  {
   "cell_type": "markdown",
   "metadata": {},
   "source": [
    "Sometimes a Boolean formula does not have such an input. If this is the case the formula is called unsatisfiable. For example the formula below can never be true.\n",
    "\n",
    "> $f = x1 \\wedge \\neg x1$"
   ]
  },
  {
   "cell_type": "markdown",
   "metadata": {},
   "source": [
    "The SAT solver can also recognize this fact:"
   ]
  },
  {
   "cell_type": "code",
   "execution_count": 4,
   "metadata": {},
   "outputs": [
    {
     "name": "stdout",
     "output_type": "stream",
     "text": [
      "UNSAT\n"
     ]
    }
   ],
   "source": [
    "# The formula as a list.\n",
    "f = [[1],[-1]]\n",
    "\n",
    "# Finding the solution.\n",
    "result = sat.solve(f)\n",
    "\n",
    "# Print solution.\n",
    "print(result)"
   ]
  },
  {
   "cell_type": "markdown",
   "metadata": {},
   "source": [
    "# NP-Completeness"
   ]
  },
  {
   "cell_type": "markdown",
   "metadata": {},
   "source": [
    "NP-Complete is a complexity class in which the problem P must obey two criteria:\n",
    "\n",
    "* Must be in NP.\n",
    "* Every problem in NP must be reducible to P within polynomial time.\n",
    "\n",
    "For a problem to be in the NP complexity class the solution to the problem must must verifiable in polynomial time.\n",
    "\n",
    "Polynomial time refers to polynomial time complexity, where time complexity refers to the number of steps a algorithm has to take to get to the answer. When there are $n$ literals the time complexity might scale as $O(n)$, $O(n^2)$, $O(n^3)$, $\\ldots$. But not as $O(2^n)$, since this is exponential time complexity.\n",
    "\n",
    "Cook [2] showed that SAT problems are NP-Complete. Thus, according to the first criterion it is possible to see if a given input gives TRUE as the output, within polynomial time.\n",
    "\n",
    "Karp [3] showed that many combinatorial problems can also be reduced to SAT problems, again within polynomial time. Thus, if one can solve SAT problems one can also solve other NP-Complete problems."
   ]
  },
  {
   "cell_type": "markdown",
   "metadata": {},
   "source": [
    "# References"
   ]
  },
  {
   "cell_type": "markdown",
   "metadata": {},
   "source": [
    "[2]: Cook, S. A. (1971, May). The complexity of theorem-proving procedures. In Proceedings of the third annual ACM symposium on Theory of computing (pp. 151-158).\n",
    "\n",
    "[3]: Karp, R. M. (1972). Reducibility among combinatorial problems. In Complexity of computer computations (pp. 85-103). Springer, Boston, MA."
   ]
  }
 ],
 "metadata": {
  "kernelspec": {
   "display_name": "Python 3",
   "language": "python",
   "name": "python3"
  },
  "language_info": {
   "codemirror_mode": {
    "name": "ipython",
    "version": 3
   },
   "file_extension": ".py",
   "mimetype": "text/x-python",
   "name": "python",
   "nbconvert_exporter": "python",
   "pygments_lexer": "ipython3",
   "version": "3.8.6"
  }
 },
 "nbformat": 4,
 "nbformat_minor": 4
}
