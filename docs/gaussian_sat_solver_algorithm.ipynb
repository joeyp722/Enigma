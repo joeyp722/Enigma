{
 "cells": [
  {
   "cell_type": "markdown",
   "metadata": {},
   "source": [
    "# Gaussian Elimination SAT solver algorithm\n",
    "\n",
    "Proposition for new classical algorithm that converts Boolean 3-SAT formulas to a set of linear equations, that are then solved by Gaussian elimination. The solutions to the linear equations should yield the solution to the 3-SAT problem.\n",
    "\n",
    "The Idea is to convert every clause in the CNF to a linear equation that represents a plane. This is done by mapping Boolean values to coordinates i.e. [‘True’, ‘False’] -> [1, -1]. Every coordinate that satisfies the clause must be on the plane, while every coordinate that does not satisfy the CNF is of the plane.\n",
    "\n",
    "To construct such as plane one must consider that there is always a maximum of 7 solutions given a clause, thus there will be a maximum of 7 points spanning the plane. This in turn means that there will be a maximum of 7 variables per linear equation. Note that the variables per equation can differ.\n",
    "\n",
    "However, 3-SAT clauses by their very nature have a maximum of 3 literals, thus it is necessary to introduce extra helper variables.\n",
    "\n",
    "Consider the clause (l1 v l2 v l3) as an example. Let [x1, x2, x3] correspond to these literals and let [y1, y2, y3, z1] be helper variables, now there are 7 variables in total. The helper variables will be 1 if certain combinations of the normal variables have the value 1 i.e., certain literals are ‘True’ at the same time.\n",
    "\n",
    "-\ty1 is 1 when x1 and x2 are 1.\n",
    "-\ty2 is 1 when x1 and x3 are 1.\n",
    "-\ty3 is 1 when x2 and x3 are 1.\n",
    "-\tz1 is 1 when x1, x2 and x3 are 1.\n",
    "\n",
    "This clause is always ‘True’ except if all the literals are ‘False’, thus this yields the points:\n",
    "\n",
    "[x1, x2, x3, y1, y2, y3, z1]  \n",
    "[ 1, -1, -1, -1, -1, -1, -1]  \n",
    "[-1, 1, -1, -1, -1, -1, -1]  \n",
    "[ 1,  1, -1,  1, -1, -1, -1]  \n",
    "[-1, -1, 1, -1, -1, -1, -1]  \n",
    "[ 1, -1,  1, -1,  1, -1, -1]  \n",
    "[-1,  1,  1, -1, -1,  1, -1]  \n",
    "[ 1,  1,  1,  1,  1,  1,  1]  \n",
    "\n",
    "This yields the equation:\n",
    "\n",
    "X1 + x2 + x3 – y1 – y2 – y3 + z1 = 1,\n",
    "\n",
    "since it can be verified that all points satisfy this equation. \n",
    "\n",
    "Similarly, other planes can be constructed for other clauses, but they might contain negated or new literals. In the case of negation the same variable and helper variables are still used, note that the negation merely gives rise to different points. \n",
    "\n",
    "\n",
    "\n",
    "And in the case of “new” literals new variables are introduced, where variable always refers to non-negated literals.  Similarly, new helper variables are also introduced for every 2 combination of variables and every 3 combination of variables, these correspond to the y and z helper variables respectively. The helper variables become 1 if and only if all the variables within the given combination are 1, otherwise they become -1.\n",
    "\n",
    "Since every plane corresponds to a clause the geometry of these planes can be used to find a solution to the 3-SAT CNF. When for example two clauses can be satisfied at same time there is a point corresponding to the solution on the intersection of the two planes. Similarly, when the whole CNF is satisfiable there exists a point that lays on all the planes. In the case of multiple solutions multiple of these points exist, while in the case of no points no solution exists.\n",
    "\n",
    "Fortunately, these planes are represented by a set of linear equations. The possible outcomes of solving a set of such equations are integrally linked to the satisfiability to the CNF i.e. [unique solution, multiple solutions, no solutions] -> [unique satisfiability, non-unique satisfiability, unsatisfiable].\n",
    "\n",
    "These outcomes can determined by putting the equations into matrix form and then transforming the matrix into its row echelon from. From this form it can be easily determined if the matrix has a unique solution, multiple solutions or no solutions. The required transformation can be performed via Gaussian elimination, which has a time-complexity of O(n^3), where n is the number of clauses.\n",
    "\n",
    "In the case of multiple solutions the row echelon form of the matrix yields a new set of equations, that are representative of the solutions. So, in order to get an actual assignment for the literals it is necessary to pick only one of the multiple solutions. This can be done by assigning a value to one literal at the time.\n",
    "\n",
    "For example, if l1 is set to ‘True’ the algorithm can be performed again. If the CNF becomes unsatisfiable it was a “bad” choice and l1 should ‘False’ and if it was “good” choice l1 can remain ‘True’. This process can be repeated for all literals until a unique assignment is found.\n",
    "\n",
    "This, however, does increase the time-complexity, since it must be performed for every m literals, here the time-complexity becomes O(m n^3). Note that m is bounded by m ≤ 3n, thus the time-complexity becomes O(n^4).\n"
   ]
  },
  {
   "cell_type": "code",
   "execution_count": null,
   "metadata": {},
   "outputs": [],
   "source": []
  }
 ],
 "metadata": {
  "kernelspec": {
   "display_name": "Python 3",
   "language": "python",
   "name": "python3"
  },
  "language_info": {
   "codemirror_mode": {
    "name": "ipython",
    "version": 3
   },
   "file_extension": ".py",
   "mimetype": "text/x-python",
   "name": "python",
   "nbconvert_exporter": "python",
   "pygments_lexer": "ipython3",
   "version": "3.8.6"
  }
 },
 "nbformat": 4,
 "nbformat_minor": 4
}
